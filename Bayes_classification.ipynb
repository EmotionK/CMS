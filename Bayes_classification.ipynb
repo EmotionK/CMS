{
 "cells": [
  {
   "cell_type": "code",
   "execution_count": 2,
   "metadata": {
    "collapsed": true
   },
   "outputs": [],
   "source": [
    "import pandas as pd\n",
    "import matplotlib.pyplot as plt\n",
    "import numpy as np\n",
    "import math"
   ]
  },
  {
   "cell_type": "code",
   "execution_count": 3,
   "outputs": [],
   "source": [
    "# 读取训练集与测试集\n",
    "train_data = pd.read_csv(\"traindata.csv\")\n",
    "test_data = pd.read_csv(\"testdata.csv\")"
   ],
   "metadata": {
    "collapsed": false,
    "pycharm": {
     "name": "#%%\n"
    }
   }
  },
  {
   "cell_type": "code",
   "execution_count": 4,
   "outputs": [],
   "source": [
    "train_data_male = train_data.loc[train_data['gender']=='Male']\n",
    "train_data_female = train_data.loc[train_data['gender']=='Female']\n",
    "height_male = train_data_male['height']#训练集男生的身高\n",
    "weight_male = train_data_male['weight']#训练集男生的体重\n",
    "height_female = train_data_female['height']#训练集女生的身高\n",
    "weight_female = train_data_female['weight']#训练集女生的体重\n",
    "\n",
    "test_data_male = test_data.loc[test_data['gender']=='Male']\n",
    "test_data_female = test_data.loc[test_data['gender']=='Female']\n",
    "test_height_male = test_data_male['height']#测试集男生的身高\n",
    "test_weight_male = test_data_male['weight']#测试集男生的体重\n",
    "test_height_female = test_data_female['height']#测试集女生的身高\n",
    "test_weight_female = test_data_female['weight']#测试集女生的体重"
   ],
   "metadata": {
    "collapsed": false,
    "pycharm": {
     "name": "#%%\n"
    }
   }
  },
  {
   "cell_type": "code",
   "execution_count": 5,
   "outputs": [],
   "source": [
    "#均值与方差\n",
    "def mv_var(data):\n",
    "    mean_value = data.mean()\n",
    "    variance = np.sqrt(((data-mean_value)**2).mean())\n",
    "    return mean_value,variance"
   ],
   "metadata": {
    "collapsed": false,
    "pycharm": {
     "name": "#%%\n"
    }
   }
  },
  {
   "cell_type": "code",
   "execution_count": 6,
   "outputs": [],
   "source": [
    "#极大似然估计\n",
    "[male_height_mv,male_height_var] = mv_var(np.array(height_male)) #男性身高的均值与方差\n",
    "[female_height_mv,female_height_var] = mv_var(np.array(height_female)) #女性身高的均值与方差\n",
    "[male_weight_mv,male_weight_var] = mv_var(np.array(weight_male)) #男性体重的均值与方差\n",
    "[female_weight_mv,female_weight_var] = mv_var(np.array(weight_female)) #女性体重的均值与方差"
   ],
   "metadata": {
    "collapsed": false,
    "pycharm": {
     "name": "#%%\n"
    }
   }
  },
  {
   "cell_type": "code",
   "execution_count": 7,
   "outputs": [
    {
     "data": {
      "text/plain": "(123.50657153633057, 115.58001024953455)"
     },
     "execution_count": 7,
     "metadata": {},
     "output_type": "execute_result"
    }
   ],
   "source": [
    "#贝叶斯估计\n",
    "mean_value = 0\n",
    "variance = 0\n",
    "male_num = len(height_male)\n",
    "male_mv_height_bayes = (1/(male_num+male_height_var**2))*(height_male.sum()) #男性身高贝叶斯估计\n",
    "female_num = len(height_female)\n",
    "female_mv_height_bayes = (1/(female_num+female_height_var**2))*(height_female.sum()) #女性身高贝叶斯估计\n",
    "male_mv_height_bayes,female_mv_height_bayes"
   ],
   "metadata": {
    "collapsed": false,
    "pycharm": {
     "name": "#%%\n"
    }
   }
  },
  {
   "cell_type": "code",
   "execution_count": 8,
   "outputs": [],
   "source": [
    "#获得男性与女性的身高与体重\n",
    "train_data_male_hw = train_data_male[['height','weight']] #男性的身高与体重\n",
    "train_data_female_hw = train_data_female[['height','weight']] #女性的身高与体重"
   ],
   "metadata": {
    "collapsed": false,
    "pycharm": {
     "name": "#%%\n"
    }
   }
  },
  {
   "cell_type": "code",
   "execution_count": 9,
   "outputs": [
    {
     "data": {
      "text/plain": "array([[174.134],\n       [ 66.608]])"
     },
     "execution_count": 9,
     "metadata": {},
     "output_type": "execute_result"
    }
   ],
   "source": [
    "#先验概率\n",
    "p_male = len(train_data_male_hw)/(len(train_data_male_hw)+len(train_data_female_hw))\n",
    "p_female = 1-p_male\n",
    "# 协方差矩阵\n",
    "var_male = np.cov(train_data_male_hw.T)\n",
    "var_female = np.cov(train_data_female_hw.T)\n",
    "#均值\n",
    "mean_male = np.array([male_height_mv,male_weight_mv]).reshape(-1,1)\n",
    "mean_female = np.array([female_height_mv,female_weight_mv]).reshape(-1,1)\n",
    "mean_male"
   ],
   "metadata": {
    "collapsed": false,
    "pycharm": {
     "name": "#%%\n"
    }
   }
  },
  {
   "cell_type": "code",
   "execution_count": 10,
   "outputs": [
    {
     "name": "stderr",
     "output_type": "stream",
     "text": [
      "C:\\Users\\admin\\AppData\\Local\\Temp/ipykernel_5800/1114934483.py:20: UserWarning: The following kwargs were not used by contour: 'linewidth'\n",
      "  plt.contour(sample_height,sample_weight,sample,0,colors='red',linewidth=2)\n"
     ]
    },
    {
     "data": {
      "text/plain": "<Figure size 432x288 with 1 Axes>",
      "image/png": "[encoded data removed]"
     },
     "metadata": {
      "needs_background": "light"
     },
     "output_type": "display_data"
    }
   ],
   "source": [
    "sample_height = np.linspace(150,200,50)\n",
    "sample_weight = np.linspace(40,100,50)\n",
    "sample = np.zeros((50,50))\n",
    "for i in range(50):\n",
    "    for j in range(50):\n",
    "        x = np.array([sample_height[i],sample_weight[j]]).reshape((-1,1))\n",
    "        sample[i,j] = 0.5*(np.dot(np.dot((x-mean_male).T,np.linalg.inv(var_male)),(x-mean_male))-np.dot(np.dot((x-mean_female).T,np.linalg.inv(var_female)),(x-mean_female)))+0.5*math.log(np.linalg.det(var_male)/np.linalg.det(var_female))-math.log(p_male/p_female)\n",
    "\n",
    "plt.xlabel('height')\n",
    "plt.ylabel('weight')\n",
    "#训练集\n",
    "plt.scatter(height_male,weight_male,label='train_male')\n",
    "plt.scatter(height_female,weight_female,label='train_female')\n",
    "#测试集\n",
    "plt.scatter(test_height_male,test_weight_male,label='test_male',c='green')\n",
    "plt.scatter(test_height_female,test_weight_female,label='test_female',c='yellow')\n",
    "#预测\n",
    "plt.scatter(180,60,c='red',label='prediction')\n",
    "#分类\n",
    "plt.contour(sample_height,sample_weight,sample,0,colors='red',linewidth=2)\n",
    "plt.legend()\n",
    "\n",
    "\n",
    "plt.show()"
   ],
   "metadata": {
    "collapsed": false,
    "pycharm": {
     "name": "#%%\n"
    }
   }
  },
  {
   "cell_type": "code",
   "execution_count": 72,
   "outputs": [],
   "source": [],
   "metadata": {
    "collapsed": false,
    "pycharm": {
     "name": "#%%\n"
    }
   }
  }
 ],
 "metadata": {
  "kernelspec": {
   "display_name": "Python 3",
   "language": "python",
   "name": "python3"
  },
  "language_info": {
   "codemirror_mode": {
    "name": "ipython",
    "version": 2
   },
   "file_extension": ".py",
   "mimetype": "text/x-python",
   "name": "python",
   "nbconvert_exporter": "python",
   "pygments_lexer": "ipython2",
   "version": "2.7.6"
  }
 },
 "nbformat": 4,
 "nbformat_minor": 0
}